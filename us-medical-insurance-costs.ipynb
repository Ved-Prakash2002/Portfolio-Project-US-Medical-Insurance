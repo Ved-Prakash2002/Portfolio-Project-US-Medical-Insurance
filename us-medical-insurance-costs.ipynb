{
 "cells": [
  {
   "cell_type": "markdown",
   "metadata": {},
   "source": [
    "# U.S. Medical Insurance Costs"
   ]
  },
  {
   "cell_type": "markdown",
   "metadata": {},
   "source": [
    "This project involves analyzing a CSV file containing medical insurance costs using fundamental Python concepts. The objective is to investigate various attributes within the \"insurance.csv\" file to gain insight into patient information and identify potential use cases for the dataset."
   ]
  },
  {
   "cell_type": "markdown",
   "metadata": {},
   "source": [
    "Data Scoping\n",
    "\n",
    "Problem: Insurance Company wants to estimate the expected number of claims by assessing the risk profile of its customer base. \n",
    "\n",
    "Goals: Reducing the number of claims made.\n",
    "\n",
    "Action: Identify high risk customers and recommend ways to lead a healthier lifestyle\n",
    "\n",
    "Analysis: \n",
    "1. Identify proportion of customers who smoke.\n",
    "2. Identify proportion of customers with unhealthy bmi levels (18.5 – 24.9)\n",
    "3. Identify region with most smokers\n",
    "4. Identify which sex contains more smokers\n",
    "\n",
    "Constraints:\n",
    "    BMI is not an accurate measure of a healthy lifestyle*\n",
    "\n",
    "* BMI does not take into account factors such as muscle mass, bone density and body composition"
   ]
  },
  {
   "cell_type": "code",
   "execution_count": 55,
   "metadata": {},
   "outputs": [],
   "source": [
    "# Importing required modules\n",
    "\n",
    "# open, read, write csv file\n",
    "import csv \n",
    "\n",
    "# statistical functions - mean, median, mode, standard deviation\n",
    "import statistics\n",
    "\n",
    "# count number of elements in a list\n",
    "from collections import Counter"
   ]
  },
  {
   "cell_type": "markdown",
   "metadata": {},
   "source": [
    "# Opening Dataset"
   ]
  },
  {
   "cell_type": "markdown",
   "metadata": {},
   "source": [
    "Opening the dataset and saving the data in a dictionary format makes it easier to use for further analysis"
   ]
  },
  {
   "cell_type": "code",
   "execution_count": 82,
   "metadata": {},
   "outputs": [],
   "source": [
    "# Opening Insurance dataset and saving data in a dictionary form\n",
    "insurance_dict = []\n",
    "\n",
    "with open('insurance.csv') as insurance_csv:\n",
    "    csv_reader = csv.DictReader(insurance_csv)\n",
    "    \n",
    "    for row in csv_reader:\n",
    "        insurance_dict.append(row)"
   ]
  },
  {
   "cell_type": "markdown",
   "metadata": {},
   "source": [
    "Further segregating the data into separate lists based on column headings helps in category wise analysis"
   ]
  },
  {
   "cell_type": "code",
   "execution_count": 60,
   "metadata": {},
   "outputs": [],
   "source": [
    "# Segregating data from insurance dictionary into lists based on column headings\n",
    "age = []\n",
    "sex = []\n",
    "bmi = []\n",
    "children = []\n",
    "smoker = []\n",
    "region = []\n",
    "charges = []\n",
    "\n",
    "for row in insurance_dict:\n",
    "    age.append(int(row[\"age\"]))\n",
    "    sex.append(str(row[\"sex\"]))\n",
    "    bmi.append(float(row[\"bmi\"]))\n",
    "    children.append(int(row[\"children\"]))\n",
    "    smoker.append(str(row[\"smoker\"]))\n",
    "    region.append(str(row[\"region\"]))\n",
    "    charges.append(float(row[\"charges\"]))"
   ]
  },
  {
   "cell_type": "markdown",
   "metadata": {},
   "source": [
    "# Data Exploration"
   ]
  },
  {
   "cell_type": "markdown",
   "metadata": {},
   "source": [
    "Calculating the mean, median and standard deviation of different variables helps identify patterns and trends which provide insights into the charecteristics of a dataset"
   ]
  },
  {
   "cell_type": "code",
   "execution_count": 83,
   "metadata": {},
   "outputs": [
    {
     "name": "stdout",
     "output_type": "stream",
     "text": [
      "Mean: 39.20702541106129, Median: 39.0, stdev: 14.049960379216156\n"
     ]
    }
   ],
   "source": [
    "# Function to find the mean, median and standard deviation of age, bmi and charges\n",
    "def stats(lst):\n",
    "    mean = statistics.mean(lst)\n",
    "    median = statistics.median(lst)\n",
    "    std_dev = statistics.stdev(lst)\n",
    "    print(f\"Mean: {mean}, Median: {median}, stdev: {std_dev}\")\n",
    "\n",
    "stats(age)"
   ]
  },
  {
   "cell_type": "markdown",
   "metadata": {},
   "source": [
    "# Data Analysis"
   ]
  },
  {
   "cell_type": "markdown",
   "metadata": {},
   "source": [
    "The code below provides a short, preliminary analysis of the dataset which gives the Insurance Company an overview of the Risk profile of its customers. Smoking is the main factor in this analysis because smoking is a risk factor for underlying illnesses such as lung cancer and cardiovascular disease. It is also a fairly accurate indicator of a healthy lifestyle compared to bmi. "
   ]
  },
  {
   "cell_type": "code",
   "execution_count": 84,
   "metadata": {},
   "outputs": [
    {
     "name": "stdout",
     "output_type": "stream",
     "text": [
      "0.20478325859491778\n"
     ]
    }
   ],
   "source": [
    "# Function to find the proportion of smokers in the dataset\n",
    "count_smokers = 0\n",
    "def num_of_smokers(smoker, count_smokers):\n",
    "    for item in smoker:\n",
    "        if item == \"yes\":\n",
    "          count_smokers += 1\n",
    "    return count_smokers\n",
    "\n",
    "proportion_of_smokers = num_of_smokers(smoker, count_smokers)/len(smoker)\n",
    "print(proportion_of_smokers)"
   ]
  },
  {
   "cell_type": "code",
   "execution_count": 85,
   "metadata": {},
   "outputs": [
    {
     "name": "stdout",
     "output_type": "stream",
     "text": [
      "0.16517189835575485\n"
     ]
    }
   ],
   "source": [
    "# Function to find the proportion of healthy individuals (bmi > 18.5 and < 24.9) in the dataset\n",
    "count_bmi = 0\n",
    "def num_of_healthy_bmi(bmi, count_bmi):\n",
    "    for item in bmi:\n",
    "        if item > 18.5 and item < 24.9:\n",
    "            count_bmi += 1\n",
    "    return count_bmi\n",
    "\n",
    "proportion_of_healthy_bmi = num_of_healthy_bmi(bmi, count_bmi)/len(bmi)\n",
    "print(proportion_of_healthy_bmi)"
   ]
  },
  {
   "cell_type": "code",
   "execution_count": 78,
   "metadata": {},
   "outputs": [
    {
     "name": "stdout",
     "output_type": "stream",
     "text": [
      "southwest: 58\n",
      "southeast: 91\n",
      "northeast: 67\n",
      "northwest: 58\n"
     ]
    }
   ],
   "source": [
    "# Number of Smokers by region\n",
    "smoker_by_region = []\n",
    "\n",
    "for row in insurance_dict:\n",
    "    if row[\"smoker\"] == \"yes\":\n",
    "        smoker_by_region.append(row[\"region\"])\n",
    "\n",
    "smoker_by_region_counts = Counter(smoker_by_region)\n",
    "\n",
    "for key, value in smoker_by_region_counts.items():\n",
    "    print(f\"{key}: {value}\")"
   ]
  },
  {
   "cell_type": "code",
   "execution_count": 81,
   "metadata": {},
   "outputs": [
    {
     "name": "stdout",
     "output_type": "stream",
     "text": [
      "female: 115\n",
      "male: 159\n"
     ]
    }
   ],
   "source": [
    "# Number of Smokes by sex\n",
    "smoker_by_sex = []\n",
    "\n",
    "for row in insurance_dict:\n",
    "    if row[\"smoker\"] == \"yes\":\n",
    "        smoker_by_sex.append(row[\"sex\"])\n",
    "\n",
    "smoker_by_sex_counts = Counter(smoker_by_sex)\n",
    "\n",
    "for key, value in smoker_by_sex_counts.items():\n",
    "    print(f\"{key}: {value}\")"
   ]
  },
  {
   "cell_type": "code",
   "execution_count": null,
   "metadata": {},
   "outputs": [],
   "source": []
  }
 ],
 "metadata": {
  "kernelspec": {
   "display_name": "Python 3 (ipykernel)",
   "language": "python",
   "name": "python3"
  },
  "language_info": {
   "codemirror_mode": {
    "name": "ipython",
    "version": 3
   },
   "file_extension": ".py",
   "mimetype": "text/x-python",
   "name": "python",
   "nbconvert_exporter": "python",
   "pygments_lexer": "ipython3",
   "version": "3.9.12"
  }
 },
 "nbformat": 4,
 "nbformat_minor": 4
}
